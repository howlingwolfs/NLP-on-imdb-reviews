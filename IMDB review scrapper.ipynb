{
 "cells": [
  {
   "cell_type": "code",
   "execution_count": 1,
   "id": "0c608d72-9b7f-4341-9da6-b644b0e8ed90",
   "metadata": {},
   "outputs": [],
   "source": [
    "from bs4 import BeautifulSoup\n",
    "import requests"
   ]
  },
  {
   "cell_type": "markdown",
   "id": "1e9c7704-cb98-49af-910c-dc3c74f133a8",
   "metadata": {},
   "source": [
    "# Scapping IMDB review\n",
    "Scrapping reviews from IMDB to check how our model is performing with real life problems"
   ]
  },
  {
   "cell_type": "markdown",
   "id": "c1989baa-3902-4ee2-9059-5416db3a21a6",
   "metadata": {},
   "source": [
    "### Function to scrape data from the site"
   ]
  },
  {
   "cell_type": "code",
   "execution_count": 2,
   "id": "bb280efd-4c45-422a-be4e-1f0444cf7b42",
   "metadata": {},
   "outputs": [],
   "source": [
    "def get_reviews(url):\n",
    "    headers = {'User-Agent': 'Mozilla/5.0 (Windows NT 10.0; Win64; x64)'}\n",
    "    response = requests.get(url, headers=headers)\n",
    "    soup = BeautifulSoup(response.text, 'html.parser')\n",
    "    comments = []\n",
    "    for x in soup.find_all('div', class_='ipc-html-content-inner-div'):\n",
    "        comments.append(x.get_text())\n",
    "    return comments"
   ]
  },
  {
   "cell_type": "markdown",
   "id": "593faac6-9b59-4cae-81e8-1e882c1da522",
   "metadata": {},
   "source": [
    "#### This link is from the movie <i>\"The Shawshank Redemption\"</i> as this is the top movie of IMDB so almost all reviews are positive"
   ]
  },
  {
   "cell_type": "code",
   "execution_count": 3,
   "id": "fe36ae52-92b7-4242-8f97-53c99a106646",
   "metadata": {},
   "outputs": [],
   "source": [
    "url = 'https://www.imdb.com/title/tt0111161/reviews'"
   ]
  },
  {
   "cell_type": "code",
   "execution_count": 4,
   "id": "f856440d-195d-4754-ba9f-851b89fac6a8",
   "metadata": {},
   "outputs": [],
   "source": [
    "comments = get_reviews(url)"
   ]
  },
  {
   "cell_type": "markdown",
   "id": "5464f6e7-dea6-4980-86b0-5834e0fdb4f8",
   "metadata": {},
   "source": [
    "#### This comment is positive review so lets see what our model predicts?"
   ]
  },
  {
   "cell_type": "code",
   "execution_count": 5,
   "id": "0c2ecbb9-81c7-4d28-bfef-a59562b1cd1c",
   "metadata": {},
   "outputs": [
    {
     "data": {
      "text/plain": [
       "\"It is no wonder that the film has such a high rating, it is quite literally breathtaking. What can I say that hasn't said before? Not much, it's the story, the acting, the premise, but most of all, this movie is about how it makes you feel. Sometimes you watch a film, and can't remember it days later, this film loves with you, once you've seen it, you don't forget.The ultimate story of friendship, of hope, and of life, and overcoming adversity.I understand why so many class this as the best film of all time, it isn't mine, but I get it. If you haven't seen it, or haven't seen it for some time, you need to watch it, it's amazing. 10/10.\""
      ]
     },
     "execution_count": 5,
     "metadata": {},
     "output_type": "execute_result"
    }
   ],
   "source": [
    "comments[0]"
   ]
  },
  {
   "cell_type": "code",
   "execution_count": 6,
   "id": "b06cf631-0612-4ef1-ba86-193e91f38409",
   "metadata": {},
   "outputs": [
    {
     "name": "stderr",
     "output_type": "stream",
     "text": [
      "[nltk_data] Downloading package stopwords to\n",
      "[nltk_data]     C:\\Users\\Howlingwolfs\\AppData\\Roaming\\nltk_data...\n",
      "[nltk_data]   Package stopwords is already up-to-date!\n",
      "[nltk_data] Downloading package punkt to\n",
      "[nltk_data]     C:\\Users\\Howlingwolfs\\AppData\\Roaming\\nltk_data...\n",
      "[nltk_data]   Package punkt is already up-to-date!\n",
      "[nltk_data] Downloading package punkt_tab to\n",
      "[nltk_data]     C:\\Users\\Howlingwolfs\\AppData\\Roaming\\nltk_data...\n",
      "[nltk_data]   Package punkt_tab is already up-to-date!\n"
     ]
    }
   ],
   "source": [
    "from predict import Howlingwolfs"
   ]
  },
  {
   "cell_type": "code",
   "execution_count": 7,
   "id": "dfa22be8-daa6-45c2-94dd-6dfdfb024b7d",
   "metadata": {},
   "outputs": [],
   "source": [
    "test = Howlingwolfs()"
   ]
  },
  {
   "cell_type": "code",
   "execution_count": 8,
   "id": "77a7a636-96ed-4914-987a-122c1bebfd4d",
   "metadata": {},
   "outputs": [
    {
     "name": "stdout",
     "output_type": "stream",
     "text": [
      "(1, 180)\n"
     ]
    }
   ],
   "source": [
    "review = test.process_review(comments[0])"
   ]
  },
  {
   "cell_type": "code",
   "execution_count": 9,
   "id": "9bc3d84d-06b6-4a35-8fd3-6b8b037a14ad",
   "metadata": {},
   "outputs": [
    {
     "name": "stdout",
     "output_type": "stream",
     "text": [
      "\u001b[1m1/1\u001b[0m \u001b[32m━━━━━━━━━━━━━━━━━━━━\u001b[0m\u001b[37m\u001b[0m \u001b[1m0s\u001b[0m 406ms/step\n",
      "\n",
      "===< The review is positive >===\n",
      "\n"
     ]
    }
   ],
   "source": [
    "test.predict(review)"
   ]
  },
  {
   "cell_type": "markdown",
   "id": "54d3a82a-981f-4d27-ab38-b3110a6890f3",
   "metadata": {},
   "source": [
    "#### As the has been predicted positive lets try another. The next comment is also positive review"
   ]
  },
  {
   "cell_type": "code",
   "execution_count": 10,
   "id": "308f0dd4-0dae-4f5e-ab3e-e9f3638cf85d",
   "metadata": {},
   "outputs": [
    {
     "data": {
      "text/plain": [
       "'This movie is not your ordinary Hollywood flick. It has a great and deep message. This movie has a foundation and just kept on being built on from their and that foundation is hope.Other than just the message of this movie the acting was phenomenal. Tim Robbins gave one of the greatest performances ever. He was inspiring, intelligent and most of all positive. His performance just made me smile. Robbins plays Andy Dufresne who was wrongfully convicted of murdering his wife and her lover. He is gets to life sentences but yet never gives up hope. In he becomes friends with Ellis Boyd \"Red\" Redding played by Morgan Freeman. Freeman who gives the finest performance of his career has unlike Robbins lost hope. He is in deep regret of the crime that he committed. His way of deflecting the pain away is by trying to not feel anything at all. With his friendship with Andy he learns that without our hopes and dreams we have nothing. Andy also becomes friends with the rest of Red\\'s group. James Whitmore also gave a great performance as Brooks Halten who gets out of prison parole but in the words of Red he has been \"institutionalized\". The directing by Frank Darabont was just magnificent. He kept this movie at a great steady pace along with the writing and great cinematography. He portrayed prison life in such a horrifying way, but not in terms of the physical pain but the stress and pain that wares mentally on the inmates, some of which deserve a second chance. Whatever you do, don\\'t listen to the people who say this movie is overrated because this is one of the most inspiring and greatest movies ever. It has everything you could possibly want.'"
      ]
     },
     "execution_count": 10,
     "metadata": {},
     "output_type": "execute_result"
    }
   ],
   "source": [
    "comments[2]"
   ]
  },
  {
   "cell_type": "code",
   "execution_count": 11,
   "id": "2ffe710b-b941-4c51-8b54-ec21eca410ad",
   "metadata": {},
   "outputs": [
    {
     "name": "stdout",
     "output_type": "stream",
     "text": [
      "(1, 180)\n",
      "\u001b[1m1/1\u001b[0m \u001b[32m━━━━━━━━━━━━━━━━━━━━\u001b[0m\u001b[37m\u001b[0m \u001b[1m0s\u001b[0m 106ms/step\n",
      "\n",
      "===< The review is positive >===\n",
      "\n"
     ]
    }
   ],
   "source": [
    "review = test.process_review(comments[2])\n",
    "test.predict(review)"
   ]
  },
  {
   "cell_type": "markdown",
   "id": "9ec89ff1-379d-4138-8e52-9a22ec3081e0",
   "metadata": {},
   "source": [
    "#### This is also a positive review by our model"
   ]
  },
  {
   "cell_type": "markdown",
   "id": "083b94de-8719-442f-87ee-439f795b0b01",
   "metadata": {},
   "source": [
    "### Now we try a negtive review of the movie <i>\"Snow White Remake\"</i>"
   ]
  },
  {
   "cell_type": "code",
   "execution_count": 12,
   "id": "c29fbf73-02bc-422a-95db-1b9dde199f51",
   "metadata": {},
   "outputs": [],
   "source": [
    "url = 'https://www.imdb.com/title/tt6208148/reviews/?featured=rw10402663&ref_=tt_ururv_c_1'"
   ]
  },
  {
   "cell_type": "code",
   "execution_count": 13,
   "id": "38acee86-9e2f-4c9d-998a-6187a0ce6e0c",
   "metadata": {},
   "outputs": [],
   "source": [
    "comments = get_reviews(url)"
   ]
  },
  {
   "cell_type": "markdown",
   "id": "64950175-8292-4d2d-b7e2-4d6cf1f641c1",
   "metadata": {},
   "source": [
    "#### This review is negative"
   ]
  },
  {
   "cell_type": "code",
   "execution_count": 14,
   "id": "25d3160d-4989-4921-b2a3-1667681ed6af",
   "metadata": {},
   "outputs": [
    {
     "data": {
      "text/plain": [
       "\"As always, whenever there's a negative hype around a movie, my mindset is always, prove them wrong, give it a chance.It's diabolical, honestly, I can't understand how so much money and so much time has gone into this, the final result is cringe worthy. It is an absolute shocker, I am stumped to find any positives.It looks and feels so artificial, the sets, the animals, as for The Dwarves themselves, I have no words to express my feelings there.The biggest catastrophe, not what I was expecting if I'm honest, the worst offender, Gal Gadot, she looks sensational, but her performance, she's going to scoop some unwanted awards it's fair to say.What I wasn't expecting, was just how poor the costumes would look on screen, Snow White's just doesn't translate very well, the hairstyle, what were they thinking?Disney, what on Earth have you done?1/10.\""
      ]
     },
     "execution_count": 14,
     "metadata": {},
     "output_type": "execute_result"
    }
   ],
   "source": [
    "comments[1]"
   ]
  },
  {
   "cell_type": "code",
   "execution_count": 15,
   "id": "ddadcc83-5006-4f9c-91dc-5c1cb6c29f9f",
   "metadata": {},
   "outputs": [
    {
     "name": "stdout",
     "output_type": "stream",
     "text": [
      "(1, 180)\n",
      "\u001b[1m1/1\u001b[0m \u001b[32m━━━━━━━━━━━━━━━━━━━━\u001b[0m\u001b[37m\u001b[0m \u001b[1m0s\u001b[0m 129ms/step\n",
      "\n",
      "===< The review is negative >===\n",
      "\n"
     ]
    }
   ],
   "source": [
    "review = test.process_review(comments[1])\n",
    "test.predict(review)"
   ]
  },
  {
   "cell_type": "markdown",
   "id": "57cd1fff-8311-47cf-9a30-0c630d0b3cf3",
   "metadata": {},
   "source": [
    "#### The model also predicted negative\n",
    "Lets try another one"
   ]
  },
  {
   "cell_type": "code",
   "execution_count": 16,
   "id": "84e37ed4-e331-4e47-b4c9-26b54173654b",
   "metadata": {},
   "outputs": [
    {
     "data": {
      "text/plain": [
       "\"Snow White, the original animated film, was incredibly popular and was responsible for a much needed morale boost during a dark time in the US and the globe.The remake is not a credit to the original, in many ways it makes a mockery of the original, taking the beloved character and shifting her entirely into someone else.The music was halfhearted and the dwarves felt like an afterthought, the plot doesn't really involve them beyond their presence, you can tell that many retakes occurred and that fact should be invisible to the audience.Do better Disney, this was a shame and I cannot determine for the life of me, why Disney would do this.\""
      ]
     },
     "execution_count": 16,
     "metadata": {},
     "output_type": "execute_result"
    }
   ],
   "source": [
    "comments[8]"
   ]
  },
  {
   "cell_type": "code",
   "execution_count": 17,
   "id": "552357b8-96fc-43fe-9be2-7a6273fe33ec",
   "metadata": {},
   "outputs": [
    {
     "name": "stdout",
     "output_type": "stream",
     "text": [
      "(1, 180)\n",
      "\u001b[1m1/1\u001b[0m \u001b[32m━━━━━━━━━━━━━━━━━━━━\u001b[0m\u001b[37m\u001b[0m \u001b[1m0s\u001b[0m 108ms/step\n",
      "\n",
      "===< The review is negative >===\n",
      "\n"
     ]
    }
   ],
   "source": [
    "review = test.process_review(comments[8])\n",
    "test.predict(review)"
   ]
  },
  {
   "cell_type": "markdown",
   "id": "38872982-d466-46af-bf7b-85a7a7732f7d",
   "metadata": {},
   "source": [
    "### Now let try another movie with mixed reviews <i>\"Night Always Comes\"</i>"
   ]
  },
  {
   "cell_type": "code",
   "execution_count": 18,
   "id": "17f8ea87-d8b9-4bae-9ac6-3088cde48bfe",
   "metadata": {},
   "outputs": [],
   "source": [
    "url = 'https://www.imdb.com/title/tt31567422/reviews/?featured=rw10723357&ref_=tt_ururv_c_1'"
   ]
  },
  {
   "cell_type": "code",
   "execution_count": 19,
   "id": "e18ce9c9-9884-437b-a1f6-a18de106daa4",
   "metadata": {},
   "outputs": [],
   "source": [
    "comments = get_reviews(url)"
   ]
  },
  {
   "cell_type": "markdown",
   "id": "537a6941-612a-4227-bb5c-05cac6ce2f83",
   "metadata": {},
   "source": [
    "#### This is a negative review"
   ]
  },
  {
   "cell_type": "code",
   "execution_count": 22,
   "id": "4e990117-e00c-4866-b2e2-eea39df20130",
   "metadata": {},
   "outputs": [
    {
     "data": {
      "text/plain": [
       "\"An attempt to create a tense thriller was made. Unfortunately for the audience there is no tension and it isn't thrilling. The script is rubbish, the acting is terrible. The protagonist flits between situations and secondary characters in order to collect 25 grand to buy what appears to be a condemned building, it's never explained why really. The set pieces are cobbled together and just don't work at all, especially in the last half of the film. Other reviews mention Good Time and I can see the comparison but honestly it's nowhere near that level. Don't waste your time with this godawful mess of a movie, watch good time or uncut gems instead and see how it's done.\""
      ]
     },
     "execution_count": 22,
     "metadata": {},
     "output_type": "execute_result"
    }
   ],
   "source": [
    "comments[6]"
   ]
  },
  {
   "cell_type": "code",
   "execution_count": 24,
   "id": "ffed3dce-6958-4429-941f-fbf7740ae0e8",
   "metadata": {},
   "outputs": [
    {
     "name": "stdout",
     "output_type": "stream",
     "text": [
      "(1, 180)\n",
      "\u001b[1m1/1\u001b[0m \u001b[32m━━━━━━━━━━━━━━━━━━━━\u001b[0m\u001b[37m\u001b[0m \u001b[1m0s\u001b[0m 64ms/step\n",
      "\n",
      "===< The review is negative >===\n",
      "\n"
     ]
    }
   ],
   "source": [
    "review = test.process_review(comments[6])\n",
    "test.predict(review)"
   ]
  },
  {
   "cell_type": "markdown",
   "id": "a98c39e5-e130-4292-9210-68c174ef874a",
   "metadata": {},
   "source": [
    "#### A positive review of this movie"
   ]
  },
  {
   "cell_type": "code",
   "execution_count": 25,
   "id": "ea7e993b-a776-4239-84ac-99f443e37420",
   "metadata": {},
   "outputs": [
    {
     "data": {
      "text/plain": [
       "'Not gonna lie, the plot progression resembles Good Time a lot more than I could anticipate, but I was also engaged the whole time, thanks to a very solid, believable showing from Vanessa Kirby. Her eyes do a lot of the talking in certain scenes, and I would never complain about the number of back shots we get of hers (..yeah, she\\'s got a great BACK..uff!). For director Benjamin Caron, this is a slightly better effort than Sharper, more so because the events can be tied to real middle-class happenings.I liked the conversations that the central characters keep having, showcasing sufficient detail without resorting to gimmicks like flashbacks or cutaways. Jennifer Jason Leigh, Zack Gottsagen, and Stephan James offer good support to Kirby, balancing out the plot absurdities with some level of grounded stability. I\\'ll award this 3 stars, as this story was never meant to give you the quintessential happy ending, and it doesn\\'t. It just concludes at a detour, and we\\'re left to write the rest of the story ourselves. Maybe.. just maybe, it would\\'ve helped knowing Kirby\\'s character a bit more BEFORE we jumped into the \"timebound thriller\" part of the plot.'"
      ]
     },
     "execution_count": 25,
     "metadata": {},
     "output_type": "execute_result"
    }
   ],
   "source": [
    "comments[0]"
   ]
  },
  {
   "cell_type": "code",
   "execution_count": 26,
   "id": "d5a149d8-2cf7-455d-8d34-f393020188a7",
   "metadata": {},
   "outputs": [
    {
     "name": "stdout",
     "output_type": "stream",
     "text": [
      "(1, 180)\n",
      "\u001b[1m1/1\u001b[0m \u001b[32m━━━━━━━━━━━━━━━━━━━━\u001b[0m\u001b[37m\u001b[0m \u001b[1m0s\u001b[0m 52ms/step\n",
      "\n",
      "===< The review is positive >===\n",
      "\n"
     ]
    }
   ],
   "source": [
    "review = test.process_review(comments[0])\n",
    "test.predict(review)"
   ]
  }
 ],
 "metadata": {
  "kernelspec": {
   "display_name": "Python 3 (ipykernel)",
   "language": "python",
   "name": "python3"
  },
  "language_info": {
   "codemirror_mode": {
    "name": "ipython",
    "version": 3
   },
   "file_extension": ".py",
   "mimetype": "text/x-python",
   "name": "python",
   "nbconvert_exporter": "python",
   "pygments_lexer": "ipython3",
   "version": "3.13.5"
  }
 },
 "nbformat": 4,
 "nbformat_minor": 5
}
