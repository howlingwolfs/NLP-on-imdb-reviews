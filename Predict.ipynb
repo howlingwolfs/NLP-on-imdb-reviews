{
 "cells": [
  {
   "cell_type": "code",
   "execution_count": 20,
   "id": "dd9f8bd9-124f-4968-a50e-230350895fbc",
   "metadata": {},
   "outputs": [
    {
     "name": "stderr",
     "output_type": "stream",
     "text": [
      "[nltk_data] Downloading package stopwords to\n",
      "[nltk_data]     C:\\Users\\Howlingwolfs\\AppData\\Roaming\\nltk_data...\n",
      "[nltk_data]   Package stopwords is already up-to-date!\n",
      "[nltk_data] Downloading package punkt to\n",
      "[nltk_data]     C:\\Users\\Howlingwolfs\\AppData\\Roaming\\nltk_data...\n",
      "[nltk_data]   Package punkt is already up-to-date!\n",
      "[nltk_data] Downloading package punkt_tab to\n",
      "[nltk_data]     C:\\Users\\Howlingwolfs\\AppData\\Roaming\\nltk_data...\n",
      "[nltk_data]   Package punkt_tab is already up-to-date!\n"
     ]
    }
   ],
   "source": [
    "import pandas as pd\n",
    "import numpy as np\n",
    "import re\n",
    "import nltk\n",
    "nltk.download('stopwords')\n",
    "nltk.download('punkt')\n",
    "nltk.download('punkt_tab')\n",
    "from nltk import PorterStemmer\n",
    "from nltk.corpus import stopwords\n",
    "stop_words = set(stopwords.words('english'))\n",
    "port_stemmer = PorterStemmer()\n",
    "\n",
    "from nltk.tokenize import word_tokenize\n",
    "from tensorflow.keras.preprocessing.text import Tokenizer\n",
    "from tensorflow.keras.preprocessing.sequence import pad_sequences\n",
    "from tensorflow import keras\n",
    "from keras import layers, models\n",
    "from keras.models import Sequential, load_model\n",
    "from tensorflow.keras.layers import Dense, Conv2D, Flatten, MaxPooling2D, Activation, Dropout\n",
    "from keras.layers import BatchNormalization\n",
    "from keras.optimizers import Adam, SGD\n",
    "from keras import regularizers\n",
    "from keras.models import Sequential\n",
    "from keras.layers import Dense, LSTM, Embedding"
   ]
  },
  {
   "cell_type": "code",
   "execution_count": 21,
   "id": "32b3a75e-792a-4fda-9eed-6f3af39a77aa",
   "metadata": {},
   "outputs": [],
   "source": [
    "data = pd.read_csv('Train.csv')\n",
    "train = data.copy()\n",
    "train.drop_duplicates(inplace=True)\n",
    "train['tokens'] = train['text'].apply(word_tokenize)"
   ]
  },
  {
   "cell_type": "code",
   "execution_count": 22,
   "id": "79dfbea5-a86f-4c45-9cd9-d8dfadc26abf",
   "metadata": {},
   "outputs": [],
   "source": [
    "imdb = models.load_model('Imdb.keras')"
   ]
  },
  {
   "cell_type": "code",
   "execution_count": 23,
   "id": "491d0878-8ad7-452b-9770-d040348caa33",
   "metadata": {},
   "outputs": [],
   "source": [
    "def preprocessing(text):\n",
    "    text = text.lower()\n",
    "    text = re.sub(r\"http\\S+\", \"\", text)\n",
    "    text = re.sub(r\"[^a-zA-Z]\", \" \", text)\n",
    "    text = re.sub(r\"\\s+\", \" \", text)\n",
    "    text = re.sub(r'[^\\w\\s,.!?]', '', text)  # removes most emojis & symbols\n",
    "    text = text.split()\n",
    "    text = [port_stemmer.stem(word) for word in text if not word in stop_words]\n",
    "    return text"
   ]
  },
  {
   "cell_type": "code",
   "execution_count": 24,
   "id": "f7124a21-8c99-4ee9-b698-7411c24d26e2",
   "metadata": {},
   "outputs": [],
   "source": [
    "tokenizer = Tokenizer(num_words=5000, oov_token=\"<OOV>\")\n",
    "tokenizer.fit_on_texts(train['tokens'])"
   ]
  },
  {
   "cell_type": "code",
   "execution_count": 25,
   "id": "eb20fe80-75a5-4a41-8b17-aa4d1c241508",
   "metadata": {},
   "outputs": [],
   "source": [
    "r = \"This isn't just a reboot-it's a full-on resurrection of everything we love about Superman! James Gunn nails the tone: emotional, bold, and full of hope. David Corenswet owns the cape-he's charming, powerful, and finally gives us a Superman we can believe in. Rachel Brosnahan kills it as Lois Lane with wit and fire. The action is epic, the visuals are stunning, and the story hits the heart. Sure, the CGI finale gets a bit wild, but who cares? This movie flies high and brings the DC Universe back to life. A must-watch for any superhero fan! Can't wait to see where this universe goes next-this is just the beginning\""
   ]
  },
  {
   "cell_type": "code",
   "execution_count": 32,
   "id": "994e90e2-66f5-458a-a79c-bddf81ae3f5b",
   "metadata": {},
   "outputs": [],
   "source": [
    "def process_review(review, max_length=180):\n",
    "    review_processed = preprocessing(review)\n",
    "    review_token = word_tokenize(review)\n",
    "    review_sequences = tokenizer.texts_to_sequences([review_token])\n",
    "    review_final = pad_sequences(review_sequences, maxlen=max_length, padding='post', truncating='post')\n",
    "    print(review_final.shape)\n",
    "    return review_final"
   ]
  },
  {
   "cell_type": "code",
   "execution_count": 33,
   "id": "b8abd4da-9635-410c-a8f7-e498b2751c22",
   "metadata": {},
   "outputs": [],
   "source": [
    "def predict(review):\n",
    "    predicting = imdb.predict(review, verbose=1)\n",
    "    predicted_classes = (predicting > 0.5).astype(\"int32\")\n",
    "    predicted_classes.resize(1)\n",
    "    ans = int(predicted_classes)\n",
    "    if ans == 1:\n",
    "        print('\\n===< The review is positive >===\\n')\n",
    "    elif ans == 0:\n",
    "        print('\\n===< The review is negative >===\\n')"
   ]
  },
  {
   "cell_type": "code",
   "execution_count": 34,
   "id": "9e4110c0-9b4c-4d63-a364-7d4835767f94",
   "metadata": {},
   "outputs": [
    {
     "name": "stdout",
     "output_type": "stream",
     "text": [
      "(1, 180)\n",
      "\u001b[1m1/1\u001b[0m \u001b[32m━━━━━━━━━━━━━━━━━━━━\u001b[0m\u001b[37m\u001b[0m \u001b[1m0s\u001b[0m 251ms/step\n",
      "\n",
      "===< The review is positive >===\n",
      "\n"
     ]
    },
    {
     "name": "stderr",
     "output_type": "stream",
     "text": [
      "C:\\Users\\Howlingwolfs\\AppData\\Local\\Temp\\ipykernel_12616\\533393286.py:5: DeprecationWarning: Conversion of an array with ndim > 0 to a scalar is deprecated, and will error in future. Ensure you extract a single element from your array before performing this operation. (Deprecated NumPy 1.25.)\n",
      "  ans = int(predicted_classes)\n"
     ]
    }
   ],
   "source": [
    "review = process_review(r)\n",
    "predict(review)"
   ]
  },
  {
   "cell_type": "code",
   "execution_count": null,
   "id": "9731b309-fdf4-49bf-94d7-790bd2b7bacd",
   "metadata": {},
   "outputs": [],
   "source": []
  }
 ],
 "metadata": {
  "kernelspec": {
   "display_name": "Python 3 (ipykernel)",
   "language": "python",
   "name": "python3"
  },
  "language_info": {
   "codemirror_mode": {
    "name": "ipython",
    "version": 3
   },
   "file_extension": ".py",
   "mimetype": "text/x-python",
   "name": "python",
   "nbconvert_exporter": "python",
   "pygments_lexer": "ipython3",
   "version": "3.13.5"
  }
 },
 "nbformat": 4,
 "nbformat_minor": 5
}
